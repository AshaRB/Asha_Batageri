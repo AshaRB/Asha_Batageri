{
 "cells": [
  {
   "cell_type": "code",
   "execution_count": 11,
   "metadata": {},
   "outputs": [],
   "source": [
    "#create a class bank account with two attributes and two methods\n",
    "class BankAccount:\n",
    "    def __init__(self):\n",
    "        #self.ownerName = ownerName\n",
    "        self.balance = 0\n",
    "    def deposit(self):\n",
    "        amount = float(input(\"Enter amount to be deposited: \")) \n",
    "        self.balance += amount \n",
    "        print(\"\\n Amount Deposited:\", amount)\n",
    "    def withdraw(self):\n",
    "        amount = float(input(\"Enter amount to be withdrawn: \")) \n",
    "        if self.balance >= amount: \n",
    "            self.balance -= amount \n",
    "            print(\"\\n You Withdrew:\", amount) \n",
    "        else: \n",
    "            print(\"\\n Insufficient balance  \")\n",
    "    def display(self): \n",
    "        print(\"\\n Net Available Balance=\",self.balance)"
   ]
  },
  {
   "cell_type": "code",
   "execution_count": 13,
   "metadata": {},
   "outputs": [
    {
     "name": "stdout",
     "output_type": "stream",
     "text": [
      "Enter amount to be deposited: 1000\n",
      "\n",
      " Amount Deposited: 1000.0\n",
      "Enter amount to be withdrawn: 2000\n",
      "\n",
      " Insufficient balance  \n"
     ]
    }
   ],
   "source": [
    "s = BankAccount() \n",
    "s.deposit() \n",
    "s.withdraw() "
   ]
  },
  {
   "cell_type": "code",
   "execution_count": 2,
   "metadata": {},
   "outputs": [
    {
     "name": "stdout",
     "output_type": "stream",
     "text": [
      "enter the radius of cone10\n",
      "enter the height of cone10\n",
      "enter the slant height of cone10\n",
      "Volume Of Cone :  1047.1975511965977\n",
      "Surface Area Of Cone :  628.3185307179587\n"
     ]
    }
   ],
   "source": [
    "import math \n",
    "pi = math.pi \n",
    "  \n",
    "# Function to calculate Volume of Cone \n",
    "def volume(r, h): \n",
    "    return (1 / 3) * pi * r * r * h \n",
    "  \n",
    "# Function To Calculate Surface Area of Cone \n",
    "def surfacearea(r, s): \n",
    "    return pi * r * s + pi * r * r \n",
    "  \n",
    "# Driver Code \n",
    "radius = float(input(\"enter the radius of cone\")) \n",
    "height = float(input(\"enter the height of cone\")) \n",
    "slat_height = float(input(\"enter the slant height of cone\")) \n",
    "print( \"Volume Of Cone : \", volume(radius, height) ) \n",
    "print( \"Surface Area Of Cone : \", surfacearea(radius, slat_height) ) "
   ]
  },
  {
   "cell_type": "code",
   "execution_count": null,
   "metadata": {},
   "outputs": [],
   "source": []
  }
 ],
 "metadata": {
  "kernelspec": {
   "display_name": "Python 3",
   "language": "python",
   "name": "python3"
  },
  "language_info": {
   "codemirror_mode": {
    "name": "ipython",
    "version": 3
   },
   "file_extension": ".py",
   "mimetype": "text/x-python",
   "name": "python",
   "nbconvert_exporter": "python",
   "pygments_lexer": "ipython3",
   "version": "3.7.4"
  }
 },
 "nbformat": 4,
 "nbformat_minor": 2
}
