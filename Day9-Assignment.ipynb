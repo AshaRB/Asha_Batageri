{
 "cells": [
  {
   "cell_type": "code",
   "execution_count": 38,
   "metadata": {},
   "outputs": [
    {
     "name": "stdout",
     "output_type": "stream",
     "text": [
      "Overwriting prime2.py\n"
     ]
    }
   ],
   "source": [
    "%%writefile prime2.py\n",
    "\"\"\" program to check prime number or not \"\"\"\n",
    "NUM = 17\n",
    "if NUM > 1:\n",
    "    for i in range(2, NUM//2):\n",
    "    # If num is divisible by any number between 2 and n / 2, it is not prime\n",
    "        if NUM % i == 0:\n",
    "            print(NUM, \"is not a prime number\")\n",
    "        else:\n",
    "            print(NUM, \"is a prime number\")\n",
    "else:\n",
    "    print(NUM, \"is not a prime number\")"
   ]
  },
  {
   "cell_type": "code",
   "execution_count": 15,
   "metadata": {},
   "outputs": [
    {
     "name": "stdout",
     "output_type": "stream",
     "text": [
      "Requirement already satisfied: pylint in c:\\users\\akash-pc\\anaconda3_new\\lib\\site-packages (2.4.2)\n",
      "Requirement already satisfied: astroid<2.4,>=2.3.0 in c:\\users\\akash-pc\\anaconda3_new\\lib\\site-packages (from pylint) (2.3.1)\n",
      "Requirement already satisfied: mccabe<0.7,>=0.6 in c:\\users\\akash-pc\\anaconda3_new\\lib\\site-packages (from pylint) (0.6.1)\n",
      "Requirement already satisfied: colorama; sys_platform == \"win32\" in c:\\users\\akash-pc\\anaconda3_new\\lib\\site-packages (from pylint) (0.4.1)\n",
      "Requirement already satisfied: isort<5,>=4.2.5 in c:\\users\\akash-pc\\anaconda3_new\\lib\\site-packages (from pylint) (4.3.21)\n",
      "Collecting typed-ast<1.5,>=1.4.0; implementation_name == \"cpython\" and python_version < \"3.8\" (from astroid<2.4,>=2.3.0->pylint)\n",
      "  Downloading https://files.pythonhosted.org/packages/6d/6f/c67eed763bcc095d9187c7a04fdc3ba640d1e990368acfcb1d294ff71549/typed_ast-1.4.1-cp37-cp37m-win_amd64.whl (155kB)\n",
      "Requirement already satisfied: wrapt==1.11.* in c:\\users\\akash-pc\\anaconda3_new\\lib\\site-packages (from astroid<2.4,>=2.3.0->pylint) (1.11.2)\n",
      "Requirement already satisfied: lazy-object-proxy==1.4.* in c:\\users\\akash-pc\\anaconda3_new\\lib\\site-packages (from astroid<2.4,>=2.3.0->pylint) (1.4.2)\n",
      "Requirement already satisfied: six==1.12 in c:\\users\\akash-pc\\anaconda3_new\\lib\\site-packages (from astroid<2.4,>=2.3.0->pylint) (1.12.0)\n",
      "Installing collected packages: typed-ast\n",
      "Successfully installed typed-ast-1.4.1\n"
     ]
    }
   ],
   "source": [
    "! pip install pylint"
   ]
  },
  {
   "cell_type": "code",
   "execution_count": 39,
   "metadata": {},
   "outputs": [
    {
     "name": "stdout",
     "output_type": "stream",
     "text": [
      "\n",
      "-------------------------------------------------------------------\n",
      "\n",
      "Your code has been rated at 10.00/10 (previous run: 8.75/10, +1.25)\n",
      "\n",
      "\n",
      "\n"
     ]
    }
   ],
   "source": [
    "! pylint \"prime2.py\""
   ]
  },
  {
   "cell_type": "code",
   "execution_count": null,
   "metadata": {},
   "outputs": [],
   "source": []
  }
 ],
 "metadata": {
  "kernelspec": {
   "display_name": "Python 3",
   "language": "python",
   "name": "python3"
  },
  "language_info": {
   "codemirror_mode": {
    "name": "ipython",
    "version": 3
   },
   "file_extension": ".py",
   "mimetype": "text/x-python",
   "name": "python",
   "nbconvert_exporter": "python",
   "pygments_lexer": "ipython3",
   "version": "3.7.4"
  }
 },
 "nbformat": 4,
 "nbformat_minor": 2
}
